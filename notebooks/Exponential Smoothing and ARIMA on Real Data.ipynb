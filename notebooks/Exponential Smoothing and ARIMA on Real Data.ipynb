{
  "nbformat": 4,
  "nbformat_minor": 0,
  "metadata": {
    "kernelspec": {
      "display_name": "Python 3",
      "language": "python",
      "name": "python3"
    },
    "language_info": {
      "codemirror_mode": {
        "name": "ipython",
        "version": 3
      },
      "file_extension": ".py",
      "mimetype": "text/x-python",
      "name": "python",
      "nbconvert_exporter": "python",
      "pygments_lexer": "ipython3",
      "version": "3.6.5"
    },
    "colab": {
      "name": "Exponential Smoothing and ARIMA on Real Data.ipynb",
      "provenance": []
    }
  },
  "cells": [
    {
      "cell_type": "markdown",
      "metadata": {
        "id": "3wggOeH4co-N"
      },
      "source": [
        "## Exponential Smoothing Real Data"
      ]
    },
    {
      "cell_type": "code",
      "metadata": {
        "scrolled": false,
        "id": "qIHrFDAZco-R",
        "outputId": "084c0a8c-74a3-4574-b523-7372dec17be5"
      },
      "source": [
        "# install and load necessary packages\n",
        "!pip install seaborn\n",
        "!pip install --upgrade --no-deps statsmodels\n",
        "\n",
        "import pyspark\n",
        "from datetime import datetime\n",
        "import seaborn as sns\n",
        "import sys\n",
        "import matplotlib.pyplot as plt\n",
        "%matplotlib inline\n",
        "import numpy as np\n",
        "import os\n",
        "\n",
        "print('Python version ' + sys.version)\n",
        "print('Spark version: ' + pyspark.__version__)"
      ],
      "execution_count": null,
      "outputs": [
        {
          "output_type": "stream",
          "text": [
            "Requirement already satisfied: seaborn in /opt/app-root/lib/python3.6/site-packages (0.8.1)\n",
            "Requirement already up-to-date: statsmodels in /opt/app-root/lib/python3.6/site-packages (0.9.0)\n",
            "Python version 3.6.3 (default, Mar 20 2018, 13:50:41) \n",
            "[GCC 4.8.5 20150623 (Red Hat 4.8.5-16)]\n",
            "Spark version: 2.2.1\n"
          ],
          "name": "stdout"
        }
      ]
    },
    {
      "cell_type": "code",
      "metadata": {
        "id": "XizjL69Dco-U",
        "outputId": "7ef2c866-54e4-43b6-8ffd-176b1b0f687b"
      },
      "source": [
        "%env DH_CEPH_KEY = DTG5R3EEWN9JBYJZH0DF\n",
        "%env DH_CEPH_SECRET = pdcEGFERILlkRDGrCSxdIMaZVtNCOKvYP4Gf2b2x\n",
        "%env DH_CEPH_HOST = http://storage-016.infra.prod.upshift.eng.rdu2.redhat.com:8080\n",
        "%env METRIC_NAME = kubelet_docker_operations_latency_microseconds\n",
        "%env LABEL =\n",
        "\n",
        "label = os.getenv(\"LABEL\")\n",
        "where_labels = {}#\"metric.group=route.openshift.io\"}\n",
        "metric_name = str(os.getenv(\"METRIC_NAME\"))\n",
        "print(metric_name)"
      ],
      "execution_count": null,
      "outputs": [
        {
          "output_type": "stream",
          "text": [
            "env: DH_CEPH_KEY=DTG5R3EEWN9JBYJZH0DF\n",
            "env: DH_CEPH_SECRET=pdcEGFERILlkRDGrCSxdIMaZVtNCOKvYP4Gf2b2x\n",
            "env: DH_CEPH_HOST=http://storage-016.infra.prod.upshift.eng.rdu2.redhat.com:8080\n",
            "env: METRIC_NAME=kubelet_docker_operations_latency_microseconds\n",
            "env: LABEL=\n",
            "kubelet_docker_operations_latency_microseconds\n"
          ],
          "name": "stdout"
        }
      ]
    },
    {
      "cell_type": "markdown",
      "metadata": {
        "id": "xBWT_PGnco-V"
      },
      "source": [
        "### Establish Connection to Spark Cluster\n",
        "\n",
        "set configuration so that the Spark Cluster communicates with Ceph and reads a chunk of data."
      ]
    },
    {
      "cell_type": "code",
      "metadata": {
        "id": "MDgBHp_Mco-V",
        "outputId": "545a3cb7-db9f-43b0-f359-a786fb16e16d"
      },
      "source": [
        "import string \n",
        "import random\n",
        "\n",
        "# Set the configuration\n",
        "# random string for instance name\n",
        "inst = ''.join(random.choices(string.ascii_uppercase + string.digits, k=4))\n",
        "AppName = inst + ' - Ceph S3 Prometheus JSON Reader'\n",
        "conf = pyspark.SparkConf().setAppName(AppName).setMaster('spark://spark-cluster.dh-prod-analytics-factory.svc:7077')\n",
        "print(\"Application Name: \", AppName)\n",
        "\n",
        "# specify number of nodes need (1-5)\n",
        "conf.set(\"spark.cores.max\", \"88\")\n",
        "\n",
        "# specify Spark executor memory (default is 1gB)\n",
        "conf.set(\"spark.executor.memory\", \"400g\")\n",
        "\n",
        "# Set the Spark cluster connection\n",
        "sc = pyspark.SparkContext.getOrCreate(conf) \n",
        "\n",
        "# Set the Hadoop configurations to access Ceph S3\n",
        "import os\n",
        "(ceph_key, ceph_secret, ceph_host) = (os.getenv('DH_CEPH_KEY'), os.getenv('DH_CEPH_SECRET'), os.getenv('DH_CEPH_HOST'))\n",
        "ceph_key = 'DTG5R3EEWN9JBYJZH0DF'\n",
        "ceph_secret = 'pdcEGFERILlkRDGrCSxdIMaZVtNCOKvYP4Gf2b2x'\n",
        "ceph_host = 'http://storage-016.infra.prod.upshift.eng.rdu2.redhat.com:8080'\n",
        "sc._jsc.hadoopConfiguration().set(\"fs.s3a.access.key\", ceph_key) \n",
        "sc._jsc.hadoopConfiguration().set(\"fs.s3a.secret.key\", ceph_secret) \n",
        "sc._jsc.hadoopConfiguration().set(\"fs.s3a.endpoint\", ceph_host) \n",
        "\n",
        "#Get the SQL context\n",
        "sqlContext = pyspark.SQLContext(sc)"
      ],
      "execution_count": null,
      "outputs": [
        {
          "output_type": "stream",
          "text": [
            "Application Name:  G2T0 - Ceph S3 Prometheus JSON Reader\n"
          ],
          "name": "stdout"
        }
      ]
    },
    {
      "cell_type": "code",
      "metadata": {
        "id": "cfGTzECHco-X"
      },
      "source": [
        "#Read the Prometheus JSON BZip data\n",
        "jsonUrl = \"s3a://DH-DEV-PROMETHEUS-BACKUP/prometheus-openshift-devops-monitor.1b7d.free-stg.openshiftapps.com/\"+metric_name+\"/\"\n",
        "\n",
        "jsonFile = sqlContext.read.option(\"multiline\", True).option(\"mode\", \"PERMISSIVE\").json(jsonUrl)"
      ],
      "execution_count": null,
      "outputs": []
    },
    {
      "cell_type": "code",
      "metadata": {
        "id": "4sB3yoerco-X"
      },
      "source": [
        "import pyspark.sql.functions as F\n",
        "from pyspark.sql.types import StringType\n",
        "from pyspark.sql.types import IntegerType\n",
        "from pyspark.sql.types import TimestampType\n",
        "\n",
        "# create function to convert POSIX timestamp to local date\n",
        "def convert_timestamp(t):\n",
        "    return datetime.fromtimestamp(float(t))\n",
        "\n",
        "def format_df(df):\n",
        "    #reformat data by timestamp and values\n",
        "    df = df.withColumn(\"values\", F.explode(df.values))\n",
        "    \n",
        "    df = df.withColumn(\"timestamp\", F.col(\"values\").getItem(0))\n",
        "    \n",
        "    df = df.withColumn(\"values\", F.col(\"values\").getItem(1))\n",
        "\n",
        "    # drop null values\n",
        "    df = df.na.drop(subset=[\"values\"])\n",
        "    \n",
        "    # cast values to int\n",
        "    df = df.withColumn(\"values\", df.values.cast(\"int\"))\n",
        "    #df = df.withColumn(\"timestamp\", df.values.cast(\"int\"))\n",
        "\n",
        "    # define function to be applied to DF column\n",
        "    udf_convert_timestamp = F.udf(lambda z: convert_timestamp(z), TimestampType())\n",
        "\n",
        "    df = df.na.drop(subset=[\"timestamp\"])\n",
        "    # convert timestamp values to datetime timestamp\n",
        "    df = df.withColumn(\"timestamp\", udf_convert_timestamp(\"timestamp\"))\n",
        "\n",
        "    # drop null values\n",
        "    df = df.na.drop(subset=[\"values\"])\n",
        "    \n",
        "    # calculate log(values) for each row\n",
        "    #df = df.withColumn(\"log_values\", F.log(df.values))\n",
        "    \n",
        "    return df"
      ],
      "execution_count": null,
      "outputs": []
    },
    {
      "cell_type": "code",
      "metadata": {
        "id": "nCADDsCSco-Y"
      },
      "source": [
        "def extract_from_json(json, name, select_labels, where_labels):\n",
        "    #Register the created SchemaRDD as a temporary variable\n",
        "    json.registerTempTable(name)\n",
        "    \n",
        "    #Filter the results into a data frame\n",
        "\n",
        "    query = \"SELECT values\"\n",
        "    \n",
        "    # check if select labels are specified and add query condition if appropriate\n",
        "    if len(select_labels) > 0:\n",
        "        query = query + \", \" + \", \".join(select_labels)\n",
        "        \n",
        "    query = query + \" FROM \" + name\n",
        "    \n",
        "    # check if where labels are specified and add query condition if appropriate\n",
        "    if len(where_labels) > 0:\n",
        "        query = query + \" WHERE \" + \" AND \".join(where_labels)\n",
        "\n",
        "    print(\"SQL QUERRY: \", query)\n",
        "    df = sqlContext.sql(query)\n",
        "\n",
        "    #sample data to make it more manageable\n",
        "    #data = data.sample(False, fraction = 0.05, seed = 0)\n",
        "    # TODO: get rid of this hack\n",
        "    #df = sqlContext.createDataFrame(df.head(1000), df.schema)\n",
        "    \n",
        "    return format_df(df)"
      ],
      "execution_count": null,
      "outputs": []
    },
    {
      "cell_type": "code",
      "metadata": {
        "id": "Uo83l1jYco-Z",
        "outputId": "ffb070d9-00bf-4556-df09-efd7959aa0b2"
      },
      "source": [
        "if label != \"\":\n",
        "    select_labels = ['metric.' + label]\n",
        "else:\n",
        "    select_labels = []\n",
        "    \n",
        "where_labels = {\"metric.quantile='0.9'\",\"metric.hostname='free-stg-master-03fb6'\"}\n",
        "# get data and format\n",
        "df = extract_from_json(jsonFile, metric_name, select_labels, where_labels)\n",
        "select_labels = []\n"
      ],
      "execution_count": null,
      "outputs": [
        {
          "output_type": "stream",
          "text": [
            "SQL QUERRY:  SELECT values FROM kubelet_docker_operations_latency_microseconds WHERE metric.quantile='0.9' AND metric.hostname='free-stg-master-03fb6'\n"
          ],
          "name": "stdout"
        }
      ]
    },
    {
      "cell_type": "code",
      "metadata": {
        "id": "6fkqKcxdco-b"
      },
      "source": [
        "df_pd = df.toPandas()\n"
      ],
      "execution_count": null,
      "outputs": []
    },
    {
      "cell_type": "code",
      "metadata": {
        "id": "hoXLuPdnco-b",
        "outputId": "6292b453-35f9-4864-ce44-d978a034151a"
      },
      "source": [
        "df_pd = df_pd[[\"values\",\"timestamp\"]]\n",
        "df_pd"
      ],
      "execution_count": null,
      "outputs": [
        {
          "output_type": "execute_result",
          "data": {
            "text/html": [
              "<div>\n",
              "<style scoped>\n",
              "    .dataframe tbody tr th:only-of-type {\n",
              "        vertical-align: middle;\n",
              "    }\n",
              "\n",
              "    .dataframe tbody tr th {\n",
              "        vertical-align: top;\n",
              "    }\n",
              "\n",
              "    .dataframe thead th {\n",
              "        text-align: right;\n",
              "    }\n",
              "</style>\n",
              "<table border=\"1\" class=\"dataframe\">\n",
              "  <thead>\n",
              "    <tr style=\"text-align: right;\">\n",
              "      <th></th>\n",
              "      <th>values</th>\n",
              "      <th>timestamp</th>\n",
              "    </tr>\n",
              "  </thead>\n",
              "  <tbody>\n",
              "    <tr>\n",
              "      <th>0</th>\n",
              "      <td>36762</td>\n",
              "      <td>2018-05-30 15:00:59</td>\n",
              "    </tr>\n",
              "    <tr>\n",
              "      <th>1</th>\n",
              "      <td>36762</td>\n",
              "      <td>2018-05-30 15:01:59</td>\n",
              "    </tr>\n",
              "    <tr>\n",
              "      <th>2</th>\n",
              "      <td>36762</td>\n",
              "      <td>2018-05-30 15:02:59</td>\n",
              "    </tr>\n",
              "    <tr>\n",
              "      <th>3</th>\n",
              "      <td>36762</td>\n",
              "      <td>2018-05-30 15:03:59</td>\n",
              "    </tr>\n",
              "    <tr>\n",
              "      <th>4</th>\n",
              "      <td>36762</td>\n",
              "      <td>2018-05-30 15:04:59</td>\n",
              "    </tr>\n",
              "    <tr>\n",
              "      <th>5</th>\n",
              "      <td>36762</td>\n",
              "      <td>2018-05-30 15:05:59</td>\n",
              "    </tr>\n",
              "    <tr>\n",
              "      <th>6</th>\n",
              "      <td>36762</td>\n",
              "      <td>2018-05-30 15:06:59</td>\n",
              "    </tr>\n",
              "    <tr>\n",
              "      <th>7</th>\n",
              "      <td>36762</td>\n",
              "      <td>2018-05-30 15:07:59</td>\n",
              "    </tr>\n",
              "    <tr>\n",
              "      <th>8</th>\n",
              "      <td>36762</td>\n",
              "      <td>2018-05-30 15:08:59</td>\n",
              "    </tr>\n",
              "    <tr>\n",
              "      <th>9</th>\n",
              "      <td>36762</td>\n",
              "      <td>2018-05-30 15:09:59</td>\n",
              "    </tr>\n",
              "    <tr>\n",
              "      <th>10</th>\n",
              "      <td>36762</td>\n",
              "      <td>2018-05-30 15:10:59</td>\n",
              "    </tr>\n",
              "    <tr>\n",
              "      <th>11</th>\n",
              "      <td>175890</td>\n",
              "      <td>2018-05-30 15:15:59</td>\n",
              "    </tr>\n",
              "    <tr>\n",
              "      <th>12</th>\n",
              "      <td>165059</td>\n",
              "      <td>2018-05-30 15:16:59</td>\n",
              "    </tr>\n",
              "    <tr>\n",
              "      <th>13</th>\n",
              "      <td>165059</td>\n",
              "      <td>2018-05-30 15:17:59</td>\n",
              "    </tr>\n",
              "    <tr>\n",
              "      <th>14</th>\n",
              "      <td>165059</td>\n",
              "      <td>2018-05-30 15:18:59</td>\n",
              "    </tr>\n",
              "    <tr>\n",
              "      <th>15</th>\n",
              "      <td>165059</td>\n",
              "      <td>2018-05-30 15:19:59</td>\n",
              "    </tr>\n",
              "    <tr>\n",
              "      <th>16</th>\n",
              "      <td>165059</td>\n",
              "      <td>2018-05-30 15:20:59</td>\n",
              "    </tr>\n",
              "    <tr>\n",
              "      <th>17</th>\n",
              "      <td>165059</td>\n",
              "      <td>2018-05-30 15:21:59</td>\n",
              "    </tr>\n",
              "    <tr>\n",
              "      <th>18</th>\n",
              "      <td>165059</td>\n",
              "      <td>2018-05-30 15:22:59</td>\n",
              "    </tr>\n",
              "    <tr>\n",
              "      <th>19</th>\n",
              "      <td>165059</td>\n",
              "      <td>2018-05-30 15:23:59</td>\n",
              "    </tr>\n",
              "    <tr>\n",
              "      <th>20</th>\n",
              "      <td>165059</td>\n",
              "      <td>2018-05-30 15:24:59</td>\n",
              "    </tr>\n",
              "    <tr>\n",
              "      <th>21</th>\n",
              "      <td>31374</td>\n",
              "      <td>2018-05-30 15:25:59</td>\n",
              "    </tr>\n",
              "    <tr>\n",
              "      <th>22</th>\n",
              "      <td>31374</td>\n",
              "      <td>2018-05-30 15:26:59</td>\n",
              "    </tr>\n",
              "    <tr>\n",
              "      <th>23</th>\n",
              "      <td>27546</td>\n",
              "      <td>2018-05-30 15:27:59</td>\n",
              "    </tr>\n",
              "    <tr>\n",
              "      <th>24</th>\n",
              "      <td>27546</td>\n",
              "      <td>2018-05-30 15:28:59</td>\n",
              "    </tr>\n",
              "    <tr>\n",
              "      <th>25</th>\n",
              "      <td>25720</td>\n",
              "      <td>2018-05-30 15:29:59</td>\n",
              "    </tr>\n",
              "    <tr>\n",
              "      <th>26</th>\n",
              "      <td>41214</td>\n",
              "      <td>2018-05-30 15:30:59</td>\n",
              "    </tr>\n",
              "    <tr>\n",
              "      <th>27</th>\n",
              "      <td>41214</td>\n",
              "      <td>2018-05-30 15:31:59</td>\n",
              "    </tr>\n",
              "    <tr>\n",
              "      <th>28</th>\n",
              "      <td>45085</td>\n",
              "      <td>2018-05-30 15:32:59</td>\n",
              "    </tr>\n",
              "    <tr>\n",
              "      <th>29</th>\n",
              "      <td>41214</td>\n",
              "      <td>2018-05-30 15:33:59</td>\n",
              "    </tr>\n",
              "    <tr>\n",
              "      <th>...</th>\n",
              "      <td>...</td>\n",
              "      <td>...</td>\n",
              "    </tr>\n",
              "    <tr>\n",
              "      <th>621736</th>\n",
              "      <td>1882</td>\n",
              "      <td>2018-02-12 12:23:28</td>\n",
              "    </tr>\n",
              "    <tr>\n",
              "      <th>621737</th>\n",
              "      <td>2219</td>\n",
              "      <td>2018-02-12 12:47:27</td>\n",
              "    </tr>\n",
              "    <tr>\n",
              "      <th>621738</th>\n",
              "      <td>1933</td>\n",
              "      <td>2018-02-12 13:11:26</td>\n",
              "    </tr>\n",
              "    <tr>\n",
              "      <th>621739</th>\n",
              "      <td>1920</td>\n",
              "      <td>2018-02-12 13:35:25</td>\n",
              "    </tr>\n",
              "    <tr>\n",
              "      <th>621740</th>\n",
              "      <td>1977</td>\n",
              "      <td>2018-02-12 13:59:24</td>\n",
              "    </tr>\n",
              "    <tr>\n",
              "      <th>621741</th>\n",
              "      <td>2386</td>\n",
              "      <td>2018-02-12 14:23:23</td>\n",
              "    </tr>\n",
              "    <tr>\n",
              "      <th>621742</th>\n",
              "      <td>1984</td>\n",
              "      <td>2018-02-12 14:47:22</td>\n",
              "    </tr>\n",
              "    <tr>\n",
              "      <th>621743</th>\n",
              "      <td>1856</td>\n",
              "      <td>2018-02-12 15:11:21</td>\n",
              "    </tr>\n",
              "    <tr>\n",
              "      <th>621744</th>\n",
              "      <td>1750</td>\n",
              "      <td>2018-02-12 15:35:20</td>\n",
              "    </tr>\n",
              "    <tr>\n",
              "      <th>621745</th>\n",
              "      <td>2101</td>\n",
              "      <td>2018-02-12 15:59:19</td>\n",
              "    </tr>\n",
              "    <tr>\n",
              "      <th>621746</th>\n",
              "      <td>2016</td>\n",
              "      <td>2018-02-12 16:23:18</td>\n",
              "    </tr>\n",
              "    <tr>\n",
              "      <th>621747</th>\n",
              "      <td>1995</td>\n",
              "      <td>2018-02-12 16:47:17</td>\n",
              "    </tr>\n",
              "    <tr>\n",
              "      <th>621748</th>\n",
              "      <td>1920</td>\n",
              "      <td>2018-02-12 17:11:16</td>\n",
              "    </tr>\n",
              "    <tr>\n",
              "      <th>621749</th>\n",
              "      <td>3108</td>\n",
              "      <td>2018-02-12 17:35:15</td>\n",
              "    </tr>\n",
              "    <tr>\n",
              "      <th>621750</th>\n",
              "      <td>1798</td>\n",
              "      <td>2018-02-12 17:59:14</td>\n",
              "    </tr>\n",
              "    <tr>\n",
              "      <th>621751</th>\n",
              "      <td>2466</td>\n",
              "      <td>2018-02-12 18:23:13</td>\n",
              "    </tr>\n",
              "    <tr>\n",
              "      <th>621752</th>\n",
              "      <td>1808</td>\n",
              "      <td>2018-02-12 18:47:12</td>\n",
              "    </tr>\n",
              "    <tr>\n",
              "      <th>621753</th>\n",
              "      <td>1569</td>\n",
              "      <td>2018-02-12 19:11:11</td>\n",
              "    </tr>\n",
              "    <tr>\n",
              "      <th>621754</th>\n",
              "      <td>3027</td>\n",
              "      <td>2018-02-12 19:35:10</td>\n",
              "    </tr>\n",
              "    <tr>\n",
              "      <th>621755</th>\n",
              "      <td>1780</td>\n",
              "      <td>2018-02-12 19:59:09</td>\n",
              "    </tr>\n",
              "    <tr>\n",
              "      <th>621756</th>\n",
              "      <td>2233</td>\n",
              "      <td>2018-02-12 20:23:08</td>\n",
              "    </tr>\n",
              "    <tr>\n",
              "      <th>621757</th>\n",
              "      <td>1516</td>\n",
              "      <td>2018-02-12 20:47:07</td>\n",
              "    </tr>\n",
              "    <tr>\n",
              "      <th>621758</th>\n",
              "      <td>1281</td>\n",
              "      <td>2018-02-12 21:11:06</td>\n",
              "    </tr>\n",
              "    <tr>\n",
              "      <th>621759</th>\n",
              "      <td>1292</td>\n",
              "      <td>2018-02-12 21:35:05</td>\n",
              "    </tr>\n",
              "    <tr>\n",
              "      <th>621760</th>\n",
              "      <td>4393</td>\n",
              "      <td>2018-02-12 21:59:04</td>\n",
              "    </tr>\n",
              "    <tr>\n",
              "      <th>621761</th>\n",
              "      <td>6346</td>\n",
              "      <td>2018-02-12 22:23:03</td>\n",
              "    </tr>\n",
              "    <tr>\n",
              "      <th>621762</th>\n",
              "      <td>4209</td>\n",
              "      <td>2018-02-12 22:47:02</td>\n",
              "    </tr>\n",
              "    <tr>\n",
              "      <th>621763</th>\n",
              "      <td>3781</td>\n",
              "      <td>2018-02-12 23:11:01</td>\n",
              "    </tr>\n",
              "    <tr>\n",
              "      <th>621764</th>\n",
              "      <td>3014</td>\n",
              "      <td>2018-02-12 23:35:00</td>\n",
              "    </tr>\n",
              "    <tr>\n",
              "      <th>621765</th>\n",
              "      <td>2432</td>\n",
              "      <td>2018-02-12 23:58:59</td>\n",
              "    </tr>\n",
              "  </tbody>\n",
              "</table>\n",
              "<p>621766 rows × 2 columns</p>\n",
              "</div>"
            ],
            "text/plain": [
              "        values           timestamp\n",
              "0        36762 2018-05-30 15:00:59\n",
              "1        36762 2018-05-30 15:01:59\n",
              "2        36762 2018-05-30 15:02:59\n",
              "3        36762 2018-05-30 15:03:59\n",
              "4        36762 2018-05-30 15:04:59\n",
              "5        36762 2018-05-30 15:05:59\n",
              "6        36762 2018-05-30 15:06:59\n",
              "7        36762 2018-05-30 15:07:59\n",
              "8        36762 2018-05-30 15:08:59\n",
              "9        36762 2018-05-30 15:09:59\n",
              "10       36762 2018-05-30 15:10:59\n",
              "11      175890 2018-05-30 15:15:59\n",
              "12      165059 2018-05-30 15:16:59\n",
              "13      165059 2018-05-30 15:17:59\n",
              "14      165059 2018-05-30 15:18:59\n",
              "15      165059 2018-05-30 15:19:59\n",
              "16      165059 2018-05-30 15:20:59\n",
              "17      165059 2018-05-30 15:21:59\n",
              "18      165059 2018-05-30 15:22:59\n",
              "19      165059 2018-05-30 15:23:59\n",
              "20      165059 2018-05-30 15:24:59\n",
              "21       31374 2018-05-30 15:25:59\n",
              "22       31374 2018-05-30 15:26:59\n",
              "23       27546 2018-05-30 15:27:59\n",
              "24       27546 2018-05-30 15:28:59\n",
              "25       25720 2018-05-30 15:29:59\n",
              "26       41214 2018-05-30 15:30:59\n",
              "27       41214 2018-05-30 15:31:59\n",
              "28       45085 2018-05-30 15:32:59\n",
              "29       41214 2018-05-30 15:33:59\n",
              "...        ...                 ...\n",
              "621736    1882 2018-02-12 12:23:28\n",
              "621737    2219 2018-02-12 12:47:27\n",
              "621738    1933 2018-02-12 13:11:26\n",
              "621739    1920 2018-02-12 13:35:25\n",
              "621740    1977 2018-02-12 13:59:24\n",
              "621741    2386 2018-02-12 14:23:23\n",
              "621742    1984 2018-02-12 14:47:22\n",
              "621743    1856 2018-02-12 15:11:21\n",
              "621744    1750 2018-02-12 15:35:20\n",
              "621745    2101 2018-02-12 15:59:19\n",
              "621746    2016 2018-02-12 16:23:18\n",
              "621747    1995 2018-02-12 16:47:17\n",
              "621748    1920 2018-02-12 17:11:16\n",
              "621749    3108 2018-02-12 17:35:15\n",
              "621750    1798 2018-02-12 17:59:14\n",
              "621751    2466 2018-02-12 18:23:13\n",
              "621752    1808 2018-02-12 18:47:12\n",
              "621753    1569 2018-02-12 19:11:11\n",
              "621754    3027 2018-02-12 19:35:10\n",
              "621755    1780 2018-02-12 19:59:09\n",
              "621756    2233 2018-02-12 20:23:08\n",
              "621757    1516 2018-02-12 20:47:07\n",
              "621758    1281 2018-02-12 21:11:06\n",
              "621759    1292 2018-02-12 21:35:05\n",
              "621760    4393 2018-02-12 21:59:04\n",
              "621761    6346 2018-02-12 22:23:03\n",
              "621762    4209 2018-02-12 22:47:02\n",
              "621763    3781 2018-02-12 23:11:01\n",
              "621764    3014 2018-02-12 23:35:00\n",
              "621765    2432 2018-02-12 23:58:59\n",
              "\n",
              "[621766 rows x 2 columns]"
            ]
          },
          "metadata": {
            "tags": []
          },
          "execution_count": 9
        }
      ]
    },
    {
      "cell_type": "code",
      "metadata": {
        "id": "_Y5e1DCeco-d",
        "outputId": "6993b62b-37e2-4eb2-bf4b-0b7540424375"
      },
      "source": [
        "df_pd.dtypes"
      ],
      "execution_count": null,
      "outputs": [
        {
          "output_type": "execute_result",
          "data": {
            "text/plain": [
              "values                int64\n",
              "timestamp    datetime64[ns]\n",
              "dtype: object"
            ]
          },
          "metadata": {
            "tags": []
          },
          "execution_count": 10
        }
      ]
    },
    {
      "cell_type": "code",
      "metadata": {
        "id": "Mwz-B81Xco-e"
      },
      "source": [
        "df_pd.sort_values(by='timestamp')\n",
        "#df_pd = df_pd.set_index(\"timestamp\")\n",
        "#df_pd.set_index(\"timestamp\")\n",
        "train_frame = df_pd[0 : int(0.7*len(df_pd))]\n",
        "test_frame = df_pd[int(0.7*len(df_pd)) : ]\n"
      ],
      "execution_count": null,
      "outputs": []
    },
    {
      "cell_type": "code",
      "metadata": {
        "id": "9-mrgFTsco-e",
        "outputId": "751f1df3-e828-40fa-b0a7-2161a1e7e9c4"
      },
      "source": [
        "df_pd"
      ],
      "execution_count": null,
      "outputs": [
        {
          "output_type": "execute_result",
          "data": {
            "text/html": [
              "<div>\n",
              "<style scoped>\n",
              "    .dataframe tbody tr th:only-of-type {\n",
              "        vertical-align: middle;\n",
              "    }\n",
              "\n",
              "    .dataframe tbody tr th {\n",
              "        vertical-align: top;\n",
              "    }\n",
              "\n",
              "    .dataframe thead th {\n",
              "        text-align: right;\n",
              "    }\n",
              "</style>\n",
              "<table border=\"1\" class=\"dataframe\">\n",
              "  <thead>\n",
              "    <tr style=\"text-align: right;\">\n",
              "      <th></th>\n",
              "      <th>values</th>\n",
              "      <th>timestamp</th>\n",
              "    </tr>\n",
              "  </thead>\n",
              "  <tbody>\n",
              "    <tr>\n",
              "      <th>0</th>\n",
              "      <td>36762</td>\n",
              "      <td>2018-05-30 15:00:59</td>\n",
              "    </tr>\n",
              "    <tr>\n",
              "      <th>1</th>\n",
              "      <td>36762</td>\n",
              "      <td>2018-05-30 15:01:59</td>\n",
              "    </tr>\n",
              "    <tr>\n",
              "      <th>2</th>\n",
              "      <td>36762</td>\n",
              "      <td>2018-05-30 15:02:59</td>\n",
              "    </tr>\n",
              "    <tr>\n",
              "      <th>3</th>\n",
              "      <td>36762</td>\n",
              "      <td>2018-05-30 15:03:59</td>\n",
              "    </tr>\n",
              "    <tr>\n",
              "      <th>4</th>\n",
              "      <td>36762</td>\n",
              "      <td>2018-05-30 15:04:59</td>\n",
              "    </tr>\n",
              "    <tr>\n",
              "      <th>5</th>\n",
              "      <td>36762</td>\n",
              "      <td>2018-05-30 15:05:59</td>\n",
              "    </tr>\n",
              "    <tr>\n",
              "      <th>6</th>\n",
              "      <td>36762</td>\n",
              "      <td>2018-05-30 15:06:59</td>\n",
              "    </tr>\n",
              "    <tr>\n",
              "      <th>7</th>\n",
              "      <td>36762</td>\n",
              "      <td>2018-05-30 15:07:59</td>\n",
              "    </tr>\n",
              "    <tr>\n",
              "      <th>8</th>\n",
              "      <td>36762</td>\n",
              "      <td>2018-05-30 15:08:59</td>\n",
              "    </tr>\n",
              "    <tr>\n",
              "      <th>9</th>\n",
              "      <td>36762</td>\n",
              "      <td>2018-05-30 15:09:59</td>\n",
              "    </tr>\n",
              "    <tr>\n",
              "      <th>10</th>\n",
              "      <td>36762</td>\n",
              "      <td>2018-05-30 15:10:59</td>\n",
              "    </tr>\n",
              "    <tr>\n",
              "      <th>11</th>\n",
              "      <td>175890</td>\n",
              "      <td>2018-05-30 15:15:59</td>\n",
              "    </tr>\n",
              "    <tr>\n",
              "      <th>12</th>\n",
              "      <td>165059</td>\n",
              "      <td>2018-05-30 15:16:59</td>\n",
              "    </tr>\n",
              "    <tr>\n",
              "      <th>13</th>\n",
              "      <td>165059</td>\n",
              "      <td>2018-05-30 15:17:59</td>\n",
              "    </tr>\n",
              "    <tr>\n",
              "      <th>14</th>\n",
              "      <td>165059</td>\n",
              "      <td>2018-05-30 15:18:59</td>\n",
              "    </tr>\n",
              "    <tr>\n",
              "      <th>15</th>\n",
              "      <td>165059</td>\n",
              "      <td>2018-05-30 15:19:59</td>\n",
              "    </tr>\n",
              "    <tr>\n",
              "      <th>16</th>\n",
              "      <td>165059</td>\n",
              "      <td>2018-05-30 15:20:59</td>\n",
              "    </tr>\n",
              "    <tr>\n",
              "      <th>17</th>\n",
              "      <td>165059</td>\n",
              "      <td>2018-05-30 15:21:59</td>\n",
              "    </tr>\n",
              "    <tr>\n",
              "      <th>18</th>\n",
              "      <td>165059</td>\n",
              "      <td>2018-05-30 15:22:59</td>\n",
              "    </tr>\n",
              "    <tr>\n",
              "      <th>19</th>\n",
              "      <td>165059</td>\n",
              "      <td>2018-05-30 15:23:59</td>\n",
              "    </tr>\n",
              "    <tr>\n",
              "      <th>20</th>\n",
              "      <td>165059</td>\n",
              "      <td>2018-05-30 15:24:59</td>\n",
              "    </tr>\n",
              "    <tr>\n",
              "      <th>21</th>\n",
              "      <td>31374</td>\n",
              "      <td>2018-05-30 15:25:59</td>\n",
              "    </tr>\n",
              "    <tr>\n",
              "      <th>22</th>\n",
              "      <td>31374</td>\n",
              "      <td>2018-05-30 15:26:59</td>\n",
              "    </tr>\n",
              "    <tr>\n",
              "      <th>23</th>\n",
              "      <td>27546</td>\n",
              "      <td>2018-05-30 15:27:59</td>\n",
              "    </tr>\n",
              "    <tr>\n",
              "      <th>24</th>\n",
              "      <td>27546</td>\n",
              "      <td>2018-05-30 15:28:59</td>\n",
              "    </tr>\n",
              "    <tr>\n",
              "      <th>25</th>\n",
              "      <td>25720</td>\n",
              "      <td>2018-05-30 15:29:59</td>\n",
              "    </tr>\n",
              "    <tr>\n",
              "      <th>26</th>\n",
              "      <td>41214</td>\n",
              "      <td>2018-05-30 15:30:59</td>\n",
              "    </tr>\n",
              "    <tr>\n",
              "      <th>27</th>\n",
              "      <td>41214</td>\n",
              "      <td>2018-05-30 15:31:59</td>\n",
              "    </tr>\n",
              "    <tr>\n",
              "      <th>28</th>\n",
              "      <td>45085</td>\n",
              "      <td>2018-05-30 15:32:59</td>\n",
              "    </tr>\n",
              "    <tr>\n",
              "      <th>29</th>\n",
              "      <td>41214</td>\n",
              "      <td>2018-05-30 15:33:59</td>\n",
              "    </tr>\n",
              "    <tr>\n",
              "      <th>...</th>\n",
              "      <td>...</td>\n",
              "      <td>...</td>\n",
              "    </tr>\n",
              "    <tr>\n",
              "      <th>621736</th>\n",
              "      <td>1882</td>\n",
              "      <td>2018-02-12 12:23:28</td>\n",
              "    </tr>\n",
              "    <tr>\n",
              "      <th>621737</th>\n",
              "      <td>2219</td>\n",
              "      <td>2018-02-12 12:47:27</td>\n",
              "    </tr>\n",
              "    <tr>\n",
              "      <th>621738</th>\n",
              "      <td>1933</td>\n",
              "      <td>2018-02-12 13:11:26</td>\n",
              "    </tr>\n",
              "    <tr>\n",
              "      <th>621739</th>\n",
              "      <td>1920</td>\n",
              "      <td>2018-02-12 13:35:25</td>\n",
              "    </tr>\n",
              "    <tr>\n",
              "      <th>621740</th>\n",
              "      <td>1977</td>\n",
              "      <td>2018-02-12 13:59:24</td>\n",
              "    </tr>\n",
              "    <tr>\n",
              "      <th>621741</th>\n",
              "      <td>2386</td>\n",
              "      <td>2018-02-12 14:23:23</td>\n",
              "    </tr>\n",
              "    <tr>\n",
              "      <th>621742</th>\n",
              "      <td>1984</td>\n",
              "      <td>2018-02-12 14:47:22</td>\n",
              "    </tr>\n",
              "    <tr>\n",
              "      <th>621743</th>\n",
              "      <td>1856</td>\n",
              "      <td>2018-02-12 15:11:21</td>\n",
              "    </tr>\n",
              "    <tr>\n",
              "      <th>621744</th>\n",
              "      <td>1750</td>\n",
              "      <td>2018-02-12 15:35:20</td>\n",
              "    </tr>\n",
              "    <tr>\n",
              "      <th>621745</th>\n",
              "      <td>2101</td>\n",
              "      <td>2018-02-12 15:59:19</td>\n",
              "    </tr>\n",
              "    <tr>\n",
              "      <th>621746</th>\n",
              "      <td>2016</td>\n",
              "      <td>2018-02-12 16:23:18</td>\n",
              "    </tr>\n",
              "    <tr>\n",
              "      <th>621747</th>\n",
              "      <td>1995</td>\n",
              "      <td>2018-02-12 16:47:17</td>\n",
              "    </tr>\n",
              "    <tr>\n",
              "      <th>621748</th>\n",
              "      <td>1920</td>\n",
              "      <td>2018-02-12 17:11:16</td>\n",
              "    </tr>\n",
              "    <tr>\n",
              "      <th>621749</th>\n",
              "      <td>3108</td>\n",
              "      <td>2018-02-12 17:35:15</td>\n",
              "    </tr>\n",
              "    <tr>\n",
              "      <th>621750</th>\n",
              "      <td>1798</td>\n",
              "      <td>2018-02-12 17:59:14</td>\n",
              "    </tr>\n",
              "    <tr>\n",
              "      <th>621751</th>\n",
              "      <td>2466</td>\n",
              "      <td>2018-02-12 18:23:13</td>\n",
              "    </tr>\n",
              "    <tr>\n",
              "      <th>621752</th>\n",
              "      <td>1808</td>\n",
              "      <td>2018-02-12 18:47:12</td>\n",
              "    </tr>\n",
              "    <tr>\n",
              "      <th>621753</th>\n",
              "      <td>1569</td>\n",
              "      <td>2018-02-12 19:11:11</td>\n",
              "    </tr>\n",
              "    <tr>\n",
              "      <th>621754</th>\n",
              "      <td>3027</td>\n",
              "      <td>2018-02-12 19:35:10</td>\n",
              "    </tr>\n",
              "    <tr>\n",
              "      <th>621755</th>\n",
              "      <td>1780</td>\n",
              "      <td>2018-02-12 19:59:09</td>\n",
              "    </tr>\n",
              "    <tr>\n",
              "      <th>621756</th>\n",
              "      <td>2233</td>\n",
              "      <td>2018-02-12 20:23:08</td>\n",
              "    </tr>\n",
              "    <tr>\n",
              "      <th>621757</th>\n",
              "      <td>1516</td>\n",
              "      <td>2018-02-12 20:47:07</td>\n",
              "    </tr>\n",
              "    <tr>\n",
              "      <th>621758</th>\n",
              "      <td>1281</td>\n",
              "      <td>2018-02-12 21:11:06</td>\n",
              "    </tr>\n",
              "    <tr>\n",
              "      <th>621759</th>\n",
              "      <td>1292</td>\n",
              "      <td>2018-02-12 21:35:05</td>\n",
              "    </tr>\n",
              "    <tr>\n",
              "      <th>621760</th>\n",
              "      <td>4393</td>\n",
              "      <td>2018-02-12 21:59:04</td>\n",
              "    </tr>\n",
              "    <tr>\n",
              "      <th>621761</th>\n",
              "      <td>6346</td>\n",
              "      <td>2018-02-12 22:23:03</td>\n",
              "    </tr>\n",
              "    <tr>\n",
              "      <th>621762</th>\n",
              "      <td>4209</td>\n",
              "      <td>2018-02-12 22:47:02</td>\n",
              "    </tr>\n",
              "    <tr>\n",
              "      <th>621763</th>\n",
              "      <td>3781</td>\n",
              "      <td>2018-02-12 23:11:01</td>\n",
              "    </tr>\n",
              "    <tr>\n",
              "      <th>621764</th>\n",
              "      <td>3014</td>\n",
              "      <td>2018-02-12 23:35:00</td>\n",
              "    </tr>\n",
              "    <tr>\n",
              "      <th>621765</th>\n",
              "      <td>2432</td>\n",
              "      <td>2018-02-12 23:58:59</td>\n",
              "    </tr>\n",
              "  </tbody>\n",
              "</table>\n",
              "<p>621766 rows × 2 columns</p>\n",
              "</div>"
            ],
            "text/plain": [
              "        values           timestamp\n",
              "0        36762 2018-05-30 15:00:59\n",
              "1        36762 2018-05-30 15:01:59\n",
              "2        36762 2018-05-30 15:02:59\n",
              "3        36762 2018-05-30 15:03:59\n",
              "4        36762 2018-05-30 15:04:59\n",
              "5        36762 2018-05-30 15:05:59\n",
              "6        36762 2018-05-30 15:06:59\n",
              "7        36762 2018-05-30 15:07:59\n",
              "8        36762 2018-05-30 15:08:59\n",
              "9        36762 2018-05-30 15:09:59\n",
              "10       36762 2018-05-30 15:10:59\n",
              "11      175890 2018-05-30 15:15:59\n",
              "12      165059 2018-05-30 15:16:59\n",
              "13      165059 2018-05-30 15:17:59\n",
              "14      165059 2018-05-30 15:18:59\n",
              "15      165059 2018-05-30 15:19:59\n",
              "16      165059 2018-05-30 15:20:59\n",
              "17      165059 2018-05-30 15:21:59\n",
              "18      165059 2018-05-30 15:22:59\n",
              "19      165059 2018-05-30 15:23:59\n",
              "20      165059 2018-05-30 15:24:59\n",
              "21       31374 2018-05-30 15:25:59\n",
              "22       31374 2018-05-30 15:26:59\n",
              "23       27546 2018-05-30 15:27:59\n",
              "24       27546 2018-05-30 15:28:59\n",
              "25       25720 2018-05-30 15:29:59\n",
              "26       41214 2018-05-30 15:30:59\n",
              "27       41214 2018-05-30 15:31:59\n",
              "28       45085 2018-05-30 15:32:59\n",
              "29       41214 2018-05-30 15:33:59\n",
              "...        ...                 ...\n",
              "621736    1882 2018-02-12 12:23:28\n",
              "621737    2219 2018-02-12 12:47:27\n",
              "621738    1933 2018-02-12 13:11:26\n",
              "621739    1920 2018-02-12 13:35:25\n",
              "621740    1977 2018-02-12 13:59:24\n",
              "621741    2386 2018-02-12 14:23:23\n",
              "621742    1984 2018-02-12 14:47:22\n",
              "621743    1856 2018-02-12 15:11:21\n",
              "621744    1750 2018-02-12 15:35:20\n",
              "621745    2101 2018-02-12 15:59:19\n",
              "621746    2016 2018-02-12 16:23:18\n",
              "621747    1995 2018-02-12 16:47:17\n",
              "621748    1920 2018-02-12 17:11:16\n",
              "621749    3108 2018-02-12 17:35:15\n",
              "621750    1798 2018-02-12 17:59:14\n",
              "621751    2466 2018-02-12 18:23:13\n",
              "621752    1808 2018-02-12 18:47:12\n",
              "621753    1569 2018-02-12 19:11:11\n",
              "621754    3027 2018-02-12 19:35:10\n",
              "621755    1780 2018-02-12 19:59:09\n",
              "621756    2233 2018-02-12 20:23:08\n",
              "621757    1516 2018-02-12 20:47:07\n",
              "621758    1281 2018-02-12 21:11:06\n",
              "621759    1292 2018-02-12 21:35:05\n",
              "621760    4393 2018-02-12 21:59:04\n",
              "621761    6346 2018-02-12 22:23:03\n",
              "621762    4209 2018-02-12 22:47:02\n",
              "621763    3781 2018-02-12 23:11:01\n",
              "621764    3014 2018-02-12 23:35:00\n",
              "621765    2432 2018-02-12 23:58:59\n",
              "\n",
              "[621766 rows x 2 columns]"
            ]
          },
          "metadata": {
            "tags": []
          },
          "execution_count": 12
        }
      ]
    },
    {
      "cell_type": "code",
      "metadata": {
        "id": "X_o4N-l6co-f"
      },
      "source": [
        "sc.stop()"
      ],
      "execution_count": null,
      "outputs": []
    },
    {
      "cell_type": "code",
      "metadata": {
        "id": "XO05LedUco-f",
        "outputId": "be8222c8-c787-4fb3-d521-46be4ad12c18"
      },
      "source": [
        "df_pd.dtypes"
      ],
      "execution_count": null,
      "outputs": [
        {
          "output_type": "execute_result",
          "data": {
            "text/plain": [
              "values                int64\n",
              "timestamp    datetime64[ns]\n",
              "dtype: object"
            ]
          },
          "metadata": {
            "tags": []
          },
          "execution_count": 14
        }
      ]
    },
    {
      "cell_type": "code",
      "metadata": {
        "id": "qUcx14wPco-g"
      },
      "source": [
        "df_pd_trimmed = df_pd[df_pd.timestamp > datetime(2018,6,17,3,14)]\n",
        "df_pd_trimmed = df_pd_trimmed[df_pd_trimmed.timestamp < datetime(2018,6,21,3,14)]\n",
        "#df_pd_trimmed = df_pd_trimmed[[\"values\"]]\n",
        "train_frame = df_pd_trimmed[0 : int(0.7*len(df_pd_trimmed))]\n",
        "test_frame = df_pd_trimmed[int(0.7*len(df_pd_trimmed)) : ]"
      ],
      "execution_count": null,
      "outputs": []
    },
    {
      "cell_type": "code",
      "metadata": {
        "id": "Liex9MOaco-h",
        "outputId": "16388c0e-5add-493c-a4b6-c7b4f54dc9b8"
      },
      "source": [
        "train_frame"
      ],
      "execution_count": null,
      "outputs": [
        {
          "output_type": "execute_result",
          "data": {
            "text/html": [
              "<div>\n",
              "<style scoped>\n",
              "    .dataframe tbody tr th:only-of-type {\n",
              "        vertical-align: middle;\n",
              "    }\n",
              "\n",
              "    .dataframe tbody tr th {\n",
              "        vertical-align: top;\n",
              "    }\n",
              "\n",
              "    .dataframe thead th {\n",
              "        text-align: right;\n",
              "    }\n",
              "</style>\n",
              "<table border=\"1\" class=\"dataframe\">\n",
              "  <thead>\n",
              "    <tr style=\"text-align: right;\">\n",
              "      <th></th>\n",
              "      <th>values</th>\n",
              "    </tr>\n",
              "  </thead>\n",
              "  <tbody>\n",
              "    <tr>\n",
              "      <th>82766</th>\n",
              "      <td>34347</td>\n",
              "    </tr>\n",
              "    <tr>\n",
              "      <th>82767</th>\n",
              "      <td>34347</td>\n",
              "    </tr>\n",
              "    <tr>\n",
              "      <th>82768</th>\n",
              "      <td>34347</td>\n",
              "    </tr>\n",
              "    <tr>\n",
              "      <th>82769</th>\n",
              "      <td>34347</td>\n",
              "    </tr>\n",
              "    <tr>\n",
              "      <th>82770</th>\n",
              "      <td>34347</td>\n",
              "    </tr>\n",
              "    <tr>\n",
              "      <th>82771</th>\n",
              "      <td>34347</td>\n",
              "    </tr>\n",
              "    <tr>\n",
              "      <th>82772</th>\n",
              "      <td>34347</td>\n",
              "    </tr>\n",
              "    <tr>\n",
              "      <th>82773</th>\n",
              "      <td>34347</td>\n",
              "    </tr>\n",
              "    <tr>\n",
              "      <th>82774</th>\n",
              "      <td>34347</td>\n",
              "    </tr>\n",
              "    <tr>\n",
              "      <th>82775</th>\n",
              "      <td>5856</td>\n",
              "    </tr>\n",
              "    <tr>\n",
              "      <th>82776</th>\n",
              "      <td>5856</td>\n",
              "    </tr>\n",
              "    <tr>\n",
              "      <th>82777</th>\n",
              "      <td>5856</td>\n",
              "    </tr>\n",
              "    <tr>\n",
              "      <th>82778</th>\n",
              "      <td>5856</td>\n",
              "    </tr>\n",
              "    <tr>\n",
              "      <th>82779</th>\n",
              "      <td>5856</td>\n",
              "    </tr>\n",
              "    <tr>\n",
              "      <th>82780</th>\n",
              "      <td>5856</td>\n",
              "    </tr>\n",
              "    <tr>\n",
              "      <th>82781</th>\n",
              "      <td>5856</td>\n",
              "    </tr>\n",
              "    <tr>\n",
              "      <th>82782</th>\n",
              "      <td>5856</td>\n",
              "    </tr>\n",
              "    <tr>\n",
              "      <th>82783</th>\n",
              "      <td>5856</td>\n",
              "    </tr>\n",
              "    <tr>\n",
              "      <th>82784</th>\n",
              "      <td>2024</td>\n",
              "    </tr>\n",
              "    <tr>\n",
              "      <th>82785</th>\n",
              "      <td>2024</td>\n",
              "    </tr>\n",
              "    <tr>\n",
              "      <th>82786</th>\n",
              "      <td>2024</td>\n",
              "    </tr>\n",
              "    <tr>\n",
              "      <th>82787</th>\n",
              "      <td>1903</td>\n",
              "    </tr>\n",
              "    <tr>\n",
              "      <th>82788</th>\n",
              "      <td>1903</td>\n",
              "    </tr>\n",
              "    <tr>\n",
              "      <th>82789</th>\n",
              "      <td>1903</td>\n",
              "    </tr>\n",
              "    <tr>\n",
              "      <th>82790</th>\n",
              "      <td>1903</td>\n",
              "    </tr>\n",
              "    <tr>\n",
              "      <th>82791</th>\n",
              "      <td>1903</td>\n",
              "    </tr>\n",
              "    <tr>\n",
              "      <th>82792</th>\n",
              "      <td>1903</td>\n",
              "    </tr>\n",
              "    <tr>\n",
              "      <th>82793</th>\n",
              "      <td>1903</td>\n",
              "    </tr>\n",
              "    <tr>\n",
              "      <th>82794</th>\n",
              "      <td>1903</td>\n",
              "    </tr>\n",
              "    <tr>\n",
              "      <th>82795</th>\n",
              "      <td>1903</td>\n",
              "    </tr>\n",
              "    <tr>\n",
              "      <th>...</th>\n",
              "      <td>...</td>\n",
              "    </tr>\n",
              "    <tr>\n",
              "      <th>220110</th>\n",
              "      <td>53722</td>\n",
              "    </tr>\n",
              "    <tr>\n",
              "      <th>220111</th>\n",
              "      <td>53722</td>\n",
              "    </tr>\n",
              "    <tr>\n",
              "      <th>220112</th>\n",
              "      <td>53722</td>\n",
              "    </tr>\n",
              "    <tr>\n",
              "      <th>220113</th>\n",
              "      <td>57187</td>\n",
              "    </tr>\n",
              "    <tr>\n",
              "      <th>220114</th>\n",
              "      <td>53289</td>\n",
              "    </tr>\n",
              "    <tr>\n",
              "      <th>220115</th>\n",
              "      <td>57187</td>\n",
              "    </tr>\n",
              "    <tr>\n",
              "      <th>220116</th>\n",
              "      <td>65487</td>\n",
              "    </tr>\n",
              "    <tr>\n",
              "      <th>220117</th>\n",
              "      <td>63789</td>\n",
              "    </tr>\n",
              "    <tr>\n",
              "      <th>220118</th>\n",
              "      <td>59313</td>\n",
              "    </tr>\n",
              "    <tr>\n",
              "      <th>220119</th>\n",
              "      <td>58443</td>\n",
              "    </tr>\n",
              "    <tr>\n",
              "      <th>220120</th>\n",
              "      <td>58443</td>\n",
              "    </tr>\n",
              "    <tr>\n",
              "      <th>220121</th>\n",
              "      <td>58443</td>\n",
              "    </tr>\n",
              "    <tr>\n",
              "      <th>220122</th>\n",
              "      <td>55172</td>\n",
              "    </tr>\n",
              "    <tr>\n",
              "      <th>220123</th>\n",
              "      <td>55120</td>\n",
              "    </tr>\n",
              "    <tr>\n",
              "      <th>220124</th>\n",
              "      <td>50567</td>\n",
              "    </tr>\n",
              "    <tr>\n",
              "      <th>220125</th>\n",
              "      <td>50775</td>\n",
              "    </tr>\n",
              "    <tr>\n",
              "      <th>220126</th>\n",
              "      <td>47531</td>\n",
              "    </tr>\n",
              "    <tr>\n",
              "      <th>220127</th>\n",
              "      <td>48099</td>\n",
              "    </tr>\n",
              "    <tr>\n",
              "      <th>220128</th>\n",
              "      <td>50046</td>\n",
              "    </tr>\n",
              "    <tr>\n",
              "      <th>220129</th>\n",
              "      <td>50046</td>\n",
              "    </tr>\n",
              "    <tr>\n",
              "      <th>220130</th>\n",
              "      <td>51074</td>\n",
              "    </tr>\n",
              "    <tr>\n",
              "      <th>220131</th>\n",
              "      <td>51483</td>\n",
              "    </tr>\n",
              "    <tr>\n",
              "      <th>220132</th>\n",
              "      <td>64351</td>\n",
              "    </tr>\n",
              "    <tr>\n",
              "      <th>220133</th>\n",
              "      <td>64351</td>\n",
              "    </tr>\n",
              "    <tr>\n",
              "      <th>220134</th>\n",
              "      <td>65219</td>\n",
              "    </tr>\n",
              "    <tr>\n",
              "      <th>220135</th>\n",
              "      <td>65219</td>\n",
              "    </tr>\n",
              "    <tr>\n",
              "      <th>220136</th>\n",
              "      <td>67439</td>\n",
              "    </tr>\n",
              "    <tr>\n",
              "      <th>220137</th>\n",
              "      <td>65278</td>\n",
              "    </tr>\n",
              "    <tr>\n",
              "      <th>220138</th>\n",
              "      <td>64181</td>\n",
              "    </tr>\n",
              "    <tr>\n",
              "      <th>220139</th>\n",
              "      <td>64181</td>\n",
              "    </tr>\n",
              "  </tbody>\n",
              "</table>\n",
              "<p>15701 rows × 1 columns</p>\n",
              "</div>"
            ],
            "text/plain": [
              "        values\n",
              "82766    34347\n",
              "82767    34347\n",
              "82768    34347\n",
              "82769    34347\n",
              "82770    34347\n",
              "82771    34347\n",
              "82772    34347\n",
              "82773    34347\n",
              "82774    34347\n",
              "82775     5856\n",
              "82776     5856\n",
              "82777     5856\n",
              "82778     5856\n",
              "82779     5856\n",
              "82780     5856\n",
              "82781     5856\n",
              "82782     5856\n",
              "82783     5856\n",
              "82784     2024\n",
              "82785     2024\n",
              "82786     2024\n",
              "82787     1903\n",
              "82788     1903\n",
              "82789     1903\n",
              "82790     1903\n",
              "82791     1903\n",
              "82792     1903\n",
              "82793     1903\n",
              "82794     1903\n",
              "82795     1903\n",
              "...        ...\n",
              "220110   53722\n",
              "220111   53722\n",
              "220112   53722\n",
              "220113   57187\n",
              "220114   53289\n",
              "220115   57187\n",
              "220116   65487\n",
              "220117   63789\n",
              "220118   59313\n",
              "220119   58443\n",
              "220120   58443\n",
              "220121   58443\n",
              "220122   55172\n",
              "220123   55120\n",
              "220124   50567\n",
              "220125   50775\n",
              "220126   47531\n",
              "220127   48099\n",
              "220128   50046\n",
              "220129   50046\n",
              "220130   51074\n",
              "220131   51483\n",
              "220132   64351\n",
              "220133   64351\n",
              "220134   65219\n",
              "220135   65219\n",
              "220136   67439\n",
              "220137   65278\n",
              "220138   64181\n",
              "220139   64181\n",
              "\n",
              "[15701 rows x 1 columns]"
            ]
          },
          "metadata": {
            "tags": []
          },
          "execution_count": 16
        }
      ]
    },
    {
      "cell_type": "markdown",
      "metadata": {
        "id": "_Onj1Oxbco-h"
      },
      "source": [
        "### Exponential Smoothing\n",
        "\n",
        "inspiration: https://github.com/statsmodels/statsmodels/blob/master/examples/notebooks/exponential_smoothing.ipynb"
      ]
    },
    {
      "cell_type": "code",
      "metadata": {
        "id": "iugSCF3tco-i",
        "outputId": "534b453d-dd54-4ab6-c0ee-d5bd53fddca8"
      },
      "source": [
        "!pip install patsy\n",
        "from statsmodels.tsa.api import ExponentialSmoothing, SimpleExpSmoothing, Holt\n",
        "import matplotlib.pyplot as plt\n",
        "import pandas as pd"
      ],
      "execution_count": null,
      "outputs": [
        {
          "output_type": "stream",
          "text": [
            "Requirement already satisfied: patsy in /opt/app-root/lib/python3.6/site-packages (0.5.0)\r\n",
            "Requirement already satisfied: six in /opt/app-root/lib/python3.6/site-packages (from patsy) (1.11.0)\r\n",
            "Requirement already satisfied: numpy>=1.4 in /opt/app-root/lib/python3.6/site-packages (from patsy) (1.14.5)\r\n"
          ],
          "name": "stdout"
        }
      ]
    },
    {
      "cell_type": "code",
      "metadata": {
        "id": "ymXbjv8Xco-i"
      },
      "source": [
        "train_frame = train_frame.reset_index()\n",
        "df_series = pd.Series(train_frame[\"values\"])\n",
        "#df_series.index = pd.DatetimeIndex(train_frame.index, freq=\"N\")"
      ],
      "execution_count": null,
      "outputs": []
    },
    {
      "cell_type": "code",
      "metadata": {
        "id": "TfFRODW9co-i",
        "outputId": "88908679-eeda-4cd6-efdb-787157758559"
      },
      "source": [
        "df_series"
      ],
      "execution_count": null,
      "outputs": [
        {
          "output_type": "execute_result",
          "data": {
            "text/plain": [
              "0        34347\n",
              "1        34347\n",
              "2        34347\n",
              "3        34347\n",
              "4        34347\n",
              "5        34347\n",
              "6        34347\n",
              "7        34347\n",
              "8        34347\n",
              "9         5856\n",
              "10        5856\n",
              "11        5856\n",
              "12        5856\n",
              "13        5856\n",
              "14        5856\n",
              "15        5856\n",
              "16        5856\n",
              "17        5856\n",
              "18        2024\n",
              "19        2024\n",
              "20        2024\n",
              "21        1903\n",
              "22        1903\n",
              "23        1903\n",
              "24        1903\n",
              "25        1903\n",
              "26        1903\n",
              "27        1903\n",
              "28        1903\n",
              "29        1903\n",
              "         ...  \n",
              "15671    53722\n",
              "15672    53722\n",
              "15673    53722\n",
              "15674    57187\n",
              "15675    53289\n",
              "15676    57187\n",
              "15677    65487\n",
              "15678    63789\n",
              "15679    59313\n",
              "15680    58443\n",
              "15681    58443\n",
              "15682    58443\n",
              "15683    55172\n",
              "15684    55120\n",
              "15685    50567\n",
              "15686    50775\n",
              "15687    47531\n",
              "15688    48099\n",
              "15689    50046\n",
              "15690    50046\n",
              "15691    51074\n",
              "15692    51483\n",
              "15693    64351\n",
              "15694    64351\n",
              "15695    65219\n",
              "15696    65219\n",
              "15697    67439\n",
              "15698    65278\n",
              "15699    64181\n",
              "15700    64181\n",
              "Name: values, Length: 15701, dtype: int64"
            ]
          },
          "metadata": {
            "tags": []
          },
          "execution_count": 19
        }
      ]
    },
    {
      "cell_type": "code",
      "metadata": {
        "id": "EWNwfgOFco-j",
        "outputId": "0ed292ba-9a87-43d2-c42f-4a49701d0b44"
      },
      "source": [
        "ax=df_series.plot(title=\"Original Data\")\n",
        "ax.set_ylabel(\"value\")\n",
        "plt.show()"
      ],
      "execution_count": null,
      "outputs": [
        {
          "output_type": "display_data",
          "data": {
            "image/png": "[encoded data removed]",
            "text/plain": [
              "<Figure size 432x288 with 1 Axes>"
            ]
          },
          "metadata": {
            "tags": []
          }
        }
      ]
    },
    {
      "cell_type": "markdown",
      "metadata": {
        "id": "6O9RCXf_co-j"
      },
      "source": [
        "### Simple Exponential Smoothing"
      ]
    },
    {
      "cell_type": "code",
      "metadata": {
        "id": "EGjgi5Jgco-k",
        "outputId": "178790c7-a71c-45cb-ccf2-e79553b2fda3"
      },
      "source": [
        "fit1  =  SimpleExpSmoothing(df_series).fit()\n",
        "fcast1 = fit1.forecast(600)\n",
        "ax = df_series.plot(marker='o', color='black',legend=True, label=\"Prom data\", figsize=(12,8))\n",
        "fcast1.plot(marker='o', markersize=0.2, ax=ax, color='blue', legend=True, label=\"Predicted\")\n",
        "fit1.fittedvalues.plot(marker='o', markersize=0.2, ax=ax, color='green',legend=True, label=\"ES fitted values\")\n",
        "plt.title(\"Simple Exponential Smoothing on Real Data\")\n",
        "plt.ylabel(\"value\")\n",
        "plt.xlabel(\"timestamp\")"
      ],
      "execution_count": null,
      "outputs": [
        {
          "output_type": "execute_result",
          "data": {
            "text/plain": [
              "Text(0.5,0,'timestamp')"
            ]
          },
          "metadata": {
            "tags": []
          },
          "execution_count": 58
        },
        {
          "output_type": "display_data",
          "data": {
            "image/png": "[encoded data removed]",
            "text/plain": [
              "<Figure size 864x576 with 1 Axes>"
            ]
          },
          "metadata": {
            "tags": []
          }
        }
      ]
    },
    {
      "cell_type": "markdown",
      "metadata": {
        "id": "Hurd1ocRco-l"
      },
      "source": [
        "### Holt Winters Method (Additive)\n",
        "The additive method gives a prediction by adding the seasonality, trend, and value components of the model together. This method is ideal for time series when the seasonality is relatively constant."
      ]
    },
    {
      "cell_type": "code",
      "metadata": {
        "id": "Myiic9_Bco-l",
        "outputId": "e121750a-1cde-40d9-fe9d-9f160de0f993"
      },
      "source": [
        "fit2 = ExponentialSmoothing(df_series, seasonal_periods=4, trend='add', seasonal='add').fit(use_boxcox=True)\n",
        "results=pd.DataFrame(index=[r\"$\\alpha$\",r\"$\\beta$\",r\"$\\phi$\",r\"$\\gamma$\",r\"$l_0$\",\"$b_0$\",\"SSE\"])\n",
        "params = ['smoothing_level', 'smoothing_slope', 'damping_slope', 'smoothing_seasonal', 'initial_level', 'initial_slope']\n",
        "results[\"Additive\"] = [fit2.params[p] for p in params] + [fit2.sse]\n",
        "ax = df_series.plot(figsize=(10,6), marker='o', color='black',legend=True, label=\"Prom data\")\n",
        "fit2.fittedvalues.plot(ax=ax, style='--', color='green', legend=True, label=\"HW fitted values\")\n",
        "fit2.forecast(5000).plot(ax=ax, style='--', marker='o', color='blue', legend=True, label=\"Predicted\")\n",
        "\n",
        "plt.title(\"Holt Winters Additive method on Real Data\")\n",
        "plt.ylabel(\"value\")\n",
        "plt.xlabel(\"timestamp\")\n",
        "plt.show()"
      ],
      "execution_count": null,
      "outputs": [
        {
          "output_type": "display_data",
          "data": {
            "image/png": "[encoded data removed]",
            "text/plain": [
              "<Figure size 720x432 with 1 Axes>"
            ]
          },
          "metadata": {
            "tags": []
          }
        }
      ]
    },
    {
      "cell_type": "markdown",
      "metadata": {
        "id": "fcSo2ayCco-m"
      },
      "source": [
        "### Holt Winter's Method (Multiplicative)\n",
        "This method is used when the trend and seasonality vary with time. This is effective for when the trend is non-stationary (ie. changes with time)."
      ]
    },
    {
      "cell_type": "code",
      "metadata": {
        "id": "RZcxgQWkco-m",
        "outputId": "a587b6eb-4a7f-4709-b304-10c97a0e5dc4"
      },
      "source": [
        "fit2 = ExponentialSmoothing(df_series, seasonal_periods=4, trend='add', seasonal='mult').fit(use_boxcox=True)\n",
        "results=pd.DataFrame(index=[r\"$\\alpha$\",r\"$\\beta$\",r\"$\\phi$\",r\"$\\gamma$\",r\"$l_0$\",\"$b_0$\",\"SSE\"])\n",
        "params = ['smoothing_level', 'smoothing_slope', 'damping_slope', 'smoothing_seasonal', 'initial_level', 'initial_slope']\n",
        "results[\"Additive\"] = [fit2.params[p] for p in params] + [fit2.sse]\n",
        "ax = df_series.plot(figsize=(10,6), marker='o', color='black',legend=True, label=\"Prom data\" )\n",
        "fit2.fittedvalues.plot(ax=ax, style='--', color='green', legend=True, label=\"HW fitted values\")\n",
        "fit2.forecast(5000).plot(ax=ax, style='--', marker='o', color='blue', legend=True, label=\"Predicted\")\n",
        "plt.title(\" Holt-Winters' Multiplicative method\")\n",
        "plt.ylabel(\"value\")\n",
        "plt.xlabel(\"timestamp\")\n",
        "plt.show()"
      ],
      "execution_count": null,
      "outputs": [
        {
          "output_type": "display_data",
          "data": {
            "image/png": "[encoded data removed]",
            "text/plain": [
              "<Figure size 720x432 with 1 Axes>"
            ]
          },
          "metadata": {
            "tags": []
          }
        }
      ]
    },
    {
      "cell_type": "code",
      "metadata": {
        "id": "16RJXc5hco-m"
      },
      "source": [
        "from __future__ import print_function\n",
        "import statsmodels.api as sm\n",
        "from statsmodels.tsa.arima_process import arma_generate_sample\n",
        "np.random.seed(12345)\n"
      ],
      "execution_count": null,
      "outputs": []
    },
    {
      "cell_type": "code",
      "metadata": {
        "id": "iRsh9c1nco-n"
      },
      "source": [
        "arparams = np.array([.75, -.25])\n",
        "maparams = np.array([.65, .35])"
      ],
      "execution_count": null,
      "outputs": []
    },
    {
      "cell_type": "code",
      "metadata": {
        "id": "jWTXzzl_co-n"
      },
      "source": [
        "arparams = np.r_[1, -arparams]\n",
        "maparams = np.r_[1, maparams]\n",
        "nobs = 250\n",
        "y = arma_generate_sample(arparams, maparams, nobs)"
      ],
      "execution_count": null,
      "outputs": []
    },
    {
      "cell_type": "code",
      "metadata": {
        "id": "s6Nmv-JMco-o"
      },
      "source": [
        "#dates = sm.tsa.datetools.dates_from_range('1980m1', length=nobs)\n",
        "y = df_series#pd.Series(y, index=dates)\n",
        "arma_mod = sm.tsa.ARMA(y, order=(2,2))\n",
        "arma_res = arma_mod.fit(trend='nc', disp=-1)"
      ],
      "execution_count": null,
      "outputs": []
    },
    {
      "cell_type": "code",
      "metadata": {
        "id": "CVBOFOX2co-o",
        "outputId": "3b94b320-c53a-4dcd-c7d9-a46f78fd18a6"
      },
      "source": [
        "print(arma_res.summary())"
      ],
      "execution_count": null,
      "outputs": [
        {
          "output_type": "stream",
          "text": [
            "                              ARMA Model Results                              \n",
            "==============================================================================\n",
            "Dep. Variable:                 values   No. Observations:                15701\n",
            "Model:                     ARMA(2, 2)   Log Likelihood             -159650.441\n",
            "Method:                       css-mle   S.D. of innovations           6305.157\n",
            "Date:                Fri, 06 Jul 2018   AIC                         319310.881\n",
            "Time:                        16:39:30   BIC                         319349.189\n",
            "Sample:                             0   HQIC                        319323.563\n",
            "                                                                              \n",
            "================================================================================\n",
            "                   coef    std err          z      P>|z|      [0.025      0.975]\n",
            "--------------------------------------------------------------------------------\n",
            "ar.L1.values     1.4139      0.158      8.924      0.000       1.103       1.724\n",
            "ar.L2.values    -0.4237      0.156     -2.719      0.007      -0.729      -0.118\n",
            "ma.L1.values    -0.4332      0.159     -2.732      0.006      -0.744      -0.122\n",
            "ma.L2.values     0.0110      0.008      1.334      0.182      -0.005       0.027\n",
            "                                    Roots                                    \n",
            "=============================================================================\n",
            "                  Real          Imaginary           Modulus         Frequency\n",
            "-----------------------------------------------------------------------------\n",
            "AR.1            1.0175           +0.0000j            1.0175            0.0000\n",
            "AR.2            2.3196           +0.0000j            2.3196            0.0000\n",
            "MA.1            2.4629           +0.0000j            2.4629            0.0000\n",
            "MA.2           36.7783           +0.0000j           36.7783            0.0000\n",
            "-----------------------------------------------------------------------------\n"
          ],
          "name": "stdout"
        }
      ]
    },
    {
      "cell_type": "code",
      "metadata": {
        "id": "j5W1ujlzco-o",
        "outputId": "6727186c-2fe5-4821-fefc-84bb33f17850"
      },
      "source": [
        "y.tail()"
      ],
      "execution_count": null,
      "outputs": [
        {
          "output_type": "execute_result",
          "data": {
            "text/plain": [
              "15696    65219\n",
              "15697    67439\n",
              "15698    65278\n",
              "15699    64181\n",
              "15700    64181\n",
              "Name: values, dtype: int64"
            ]
          },
          "metadata": {
            "tags": []
          },
          "execution_count": 25
        }
      ]
    },
    {
      "cell_type": "code",
      "metadata": {
        "id": "Pe6D4QzIco-p",
        "outputId": "43076404-3db1-4171-85cc-9c7113131b7f"
      },
      "source": [
        "fig, ax = plt.subplots(figsize=(10,8))\n",
        "fig = arma_res.plot_predict(start=8000, end=16000, ax=ax)\n",
        "legend = ax.legend(loc='upper left')\n",
        "plt.title(\"Time Series Forecasting using the ARIMA model\")"
      ],
      "execution_count": null,
      "outputs": [
        {
          "output_type": "execute_result",
          "data": {
            "text/plain": [
              "Text(0.5,1,'Time Series Forecasting using the ARIMA model')"
            ]
          },
          "metadata": {
            "tags": []
          },
          "execution_count": 49
        },
        {
          "output_type": "display_data",
          "data": {
            "image/png": "[encoded data removed]",
            "text/plain": [
              "<Figure size 720x576 with 1 Axes>"
            ]
          },
          "metadata": {
            "tags": []
          }
        }
      ]
    },
    {
      "cell_type": "code",
      "metadata": {
        "id": "6y3w2kmpco-p",
        "outputId": "e256684b-26ad-4699-adf0-9df6814ded45"
      },
      "source": [
        "fig, ax = plt.subplots(figsize=(10,8))\n",
        "fig = arma_res.plot_predict(start=0, end=25000, ax=ax)\n",
        "legend = ax.legend(loc='upper left')\n",
        "plt.title(\"Time Series Forecasting using the ARIMA model\")"
      ],
      "execution_count": null,
      "outputs": [
        {
          "output_type": "execute_result",
          "data": {
            "text/plain": [
              "Text(0.5,1,'Time Series Forecasting using the ARIMA model')"
            ]
          },
          "metadata": {
            "tags": []
          },
          "execution_count": 50
        },
        {
          "output_type": "display_data",
          "data": {
            "image/png": "[encoded data removed]",
            "text/plain": [
              "<Figure size 720x576 with 1 Axes>"
            ]
          },
          "metadata": {
            "tags": []
          }
        }
      ]
    },
    {
      "cell_type": "code",
      "metadata": {
        "scrolled": true,
        "id": "IJZ0ufDcco-q",
        "outputId": "db4af4b1-9b96-4612-c520-34be54bc0104"
      },
      "source": [
        "!pip install fbprophet"
      ],
      "execution_count": null,
      "outputs": [
        {
          "output_type": "stream",
          "text": [
            "Collecting fbprophet\n",
            "  Downloading https://files.pythonhosted.org/packages/83/a1/a39be1675a62597e4c0d4fdaeb65b14752b8aa8afc92e90edd91614353ab/fbprophet-0.3.post2.tar.gz\n",
            "Collecting Cython>=0.22 (from fbprophet)\n",
            "\u001b[?25l  Downloading https://files.pythonhosted.org/packages/6f/79/d8e2cd00bea8156a995fb284ce7b6677c49eccd2d318f73e201a9ce560dc/Cython-0.28.3-cp36-cp36m-manylinux1_x86_64.whl (3.4MB)\n",
            "\u001b[K    100% |████████████████████████████████| 3.4MB 16.6MB/s ta 0:00:01\n",
            "\u001b[?25hCollecting pystan>=2.14 (from fbprophet)\n",
            "\u001b[?25l  Downloading https://files.pythonhosted.org/packages/46/37/801a5a932e7f1f038542e7c5e4c4010aac19a26ea6bde9534505465f8c8c/pystan-2.17.1.0-cp36-cp36m-manylinux1_x86_64.whl (68.1MB)\n",
            "\u001b[K    100% |████████████████████████████████| 68.1MB 8.9MB/s ta 0:00:0111                      | 4.5MB 94.9MB/s eta 0:00:01\n",
            "\u001b[?25hRequirement already satisfied: numpy>=1.10.0 in /opt/app-root/lib/python3.6/site-packages (from fbprophet) (1.14.5)\n",
            "Requirement already satisfied: pandas>=0.20.1 in /opt/app-root/lib/python3.6/site-packages (from fbprophet) (0.23.0)\n",
            "Requirement already satisfied: matplotlib>=2.0.0 in /opt/app-root/lib/python3.6/site-packages (from fbprophet) (2.2.2)\n",
            "Requirement already satisfied: python-dateutil>=2.5.0 in /opt/app-root/lib/python3.6/site-packages (from pandas>=0.20.1->fbprophet) (2.7.3)\n",
            "Requirement already satisfied: pytz>=2011k in /opt/app-root/lib/python3.6/site-packages (from pandas>=0.20.1->fbprophet) (2018.4)\n",
            "Requirement already satisfied: pyparsing!=2.0.4,!=2.1.2,!=2.1.6,>=2.0.1 in /opt/app-root/lib/python3.6/site-packages (from matplotlib>=2.0.0->fbprophet) (2.2.0)\n",
            "Requirement already satisfied: kiwisolver>=1.0.1 in /opt/app-root/lib/python3.6/site-packages (from matplotlib>=2.0.0->fbprophet) (1.0.1)\n",
            "Requirement already satisfied: cycler>=0.10 in /opt/app-root/lib/python3.6/site-packages (from matplotlib>=2.0.0->fbprophet) (0.10.0)\n",
            "Requirement already satisfied: six>=1.10 in /opt/app-root/lib/python3.6/site-packages (from matplotlib>=2.0.0->fbprophet) (1.11.0)\n",
            "Requirement already satisfied: setuptools in /opt/app-root/lib/python3.6/site-packages (from kiwisolver>=1.0.1->matplotlib>=2.0.0->fbprophet) (39.2.0)\n",
            "Installing collected packages: Cython, pystan, fbprophet\n",
            "  Running setup.py install for fbprophet ... \u001b[?25ldone\n",
            "\u001b[?25hSuccessfully installed Cython-0.28.3 fbprophet-0.3.post2 pystan-2.17.1.0\n"
          ],
          "name": "stdout"
        }
      ]
    },
    {
      "cell_type": "code",
      "metadata": {
        "id": "7KRsVRCico-q"
      },
      "source": [
        "from fbprophet import Prophet"
      ],
      "execution_count": null,
      "outputs": []
    },
    {
      "cell_type": "markdown",
      "metadata": {
        "id": "Ixv9fztSco-r"
      },
      "source": [
        "#### Forecasting __list_images__"
      ]
    },
    {
      "cell_type": "code",
      "metadata": {
        "id": "oRLRh1G8co-r"
      },
      "source": [
        "temp_frame = get_filtered_op_frame(OP_TYPE)\n",
        "temp_frame = temp_frame.set_index(temp_frame.timestamp)\n",
        "temp_frame = temp_frame[['timestamp','value']]"
      ],
      "execution_count": null,
      "outputs": []
    },
    {
      "cell_type": "markdown",
      "metadata": {
        "id": "ToFRiIpico-r"
      },
      "source": [
        "#### Separating train and test frame\n",
        "Separation is being done to check the forecast quality and residual plot and its distribution"
      ]
    },
    {
      "cell_type": "code",
      "metadata": {
        "id": "AQGQIQ2rco-s"
      },
      "source": [
        "train_frame = temp_frame[0 : int(0.7*len(temp_frame))]\n",
        "test_frame = temp_frame[int(0.7*len(temp_frame)) : ]"
      ],
      "execution_count": null,
      "outputs": []
    },
    {
      "cell_type": "code",
      "metadata": {
        "id": "k6lyGM0dco-s"
      },
      "source": [
        "print(len(train_frame), len(test_frame), len(temp_frame))"
      ],
      "execution_count": null,
      "outputs": []
    },
    {
      "cell_type": "code",
      "metadata": {
        "scrolled": false,
        "id": "bFT8WMWHco-s",
        "outputId": "aac68a26-425f-4867-f83b-13c24c755d78"
      },
      "source": [
        "train_p=train_frame\n",
        "train_p['y'] = train_frame['values']\n",
        "train_p['ds'] = train_frame['timestamp']"
      ],
      "execution_count": null,
      "outputs": [
        {
          "output_type": "stream",
          "text": [
            "/opt/app-root/lib/python3.6/site-packages/ipykernel_launcher.py:2: SettingWithCopyWarning: \n",
            "A value is trying to be set on a copy of a slice from a DataFrame.\n",
            "Try using .loc[row_indexer,col_indexer] = value instead\n",
            "\n",
            "See the caveats in the documentation: http://pandas.pydata.org/pandas-docs/stable/indexing.html#indexing-view-versus-copy\n",
            "  \n",
            "/opt/app-root/lib/python3.6/site-packages/ipykernel_launcher.py:3: SettingWithCopyWarning: \n",
            "A value is trying to be set on a copy of a slice from a DataFrame.\n",
            "Try using .loc[row_indexer,col_indexer] = value instead\n",
            "\n",
            "See the caveats in the documentation: http://pandas.pydata.org/pandas-docs/stable/indexing.html#indexing-view-versus-copy\n",
            "  This is separate from the ipykernel package so we can avoid doing imports until\n"
          ],
          "name": "stderr"
        }
      ]
    },
    {
      "cell_type": "code",
      "metadata": {
        "id": "2vnzowoIco-t"
      },
      "source": [
        "test_p=test_frame\n",
        "train_p['y'] = train_frame['values']\n",
        "train_p['ds'] = train_frame['timestamp']"
      ],
      "execution_count": null,
      "outputs": []
    },
    {
      "cell_type": "markdown",
      "metadata": {
        "id": "BF1cARdhco-t"
      },
      "source": [
        "#### Initialisation of model\n",
        "We can add seasonality when initialising the model. Its little hard to understand but, inital approach will show some seaonality in forecast plot. Seasonality can be week, daily month or yearly\n",
        "* We can add additinal features as well for better forecasting"
      ]
    },
    {
      "cell_type": "code",
      "metadata": {
        "id": "PZMNAZv4co-t"
      },
      "source": [
        "m = Prophet()"
      ],
      "execution_count": null,
      "outputs": []
    },
    {
      "cell_type": "markdown",
      "metadata": {
        "id": "ji-nr_j2co-u"
      },
      "source": [
        "#### Model fitting\n",
        "It is being trained on training data"
      ]
    },
    {
      "cell_type": "code",
      "metadata": {
        "id": "5cbElBjTco-u",
        "outputId": "261ccd04-869a-444a-f138-64fcb0601919"
      },
      "source": [
        "m.fit(train_p)"
      ],
      "execution_count": null,
      "outputs": [
        {
          "output_type": "stream",
          "text": [
            "INFO:fbprophet.forecaster:Disabling yearly seasonality. Run prophet with yearly_seasonality=True to override this.\n",
            "INFO:fbprophet.forecaster:Disabling weekly seasonality. Run prophet with weekly_seasonality=True to override this.\n",
            "/opt/app-root/lib/python3.6/site-packages/pystan/misc.py:399: FutureWarning: Conversion of the second argument of issubdtype from `float` to `np.floating` is deprecated. In future, it will be treated as `np.float64 == np.dtype(float).type`.\n",
            "  elif np.issubdtype(np.asarray(v).dtype, float):\n"
          ],
          "name": "stderr"
        },
        {
          "output_type": "execute_result",
          "data": {
            "text/plain": [
              "<fbprophet.forecaster.Prophet at 0x7f38f4eeaef0>"
            ]
          },
          "metadata": {
            "tags": []
          },
          "execution_count": 79
        }
      ]
    },
    {
      "cell_type": "markdown",
      "metadata": {
        "id": "hQ3vd-tIco-u"
      },
      "source": [
        "#### Make future frame wholding the timestamps of future for forecasting. \n",
        "For example, if we run the model every 12 hours, we can make the future frame for next 11 hours 59 minutes, taking frequency as 1 minute. As the time capture is being done for every one minute"
      ]
    },
    {
      "cell_type": "code",
      "metadata": {
        "id": "mbtT1lgNco-v"
      },
      "source": [
        "future = m.make_future_dataframe(periods= int(len(test_p) * 1.1),freq= '1MIN')"
      ],
      "execution_count": null,
      "outputs": []
    },
    {
      "cell_type": "code",
      "metadata": {
        "scrolled": true,
        "id": "jvuGWRAlco-v"
      },
      "source": [
        "forecast = m.predict(future)"
      ],
      "execution_count": null,
      "outputs": []
    },
    {
      "cell_type": "code",
      "metadata": {
        "scrolled": true,
        "id": "DTKrMfd1co-v",
        "outputId": "1be0be90-9731-4b01-e23b-f7bac9bfaf5d"
      },
      "source": [
        "forecast.head()"
      ],
      "execution_count": null,
      "outputs": [
        {
          "output_type": "execute_result",
          "data": {
            "text/html": [
              "<div>\n",
              "<style scoped>\n",
              "    .dataframe tbody tr th:only-of-type {\n",
              "        vertical-align: middle;\n",
              "    }\n",
              "\n",
              "    .dataframe tbody tr th {\n",
              "        vertical-align: top;\n",
              "    }\n",
              "\n",
              "    .dataframe thead th {\n",
              "        text-align: right;\n",
              "    }\n",
              "</style>\n",
              "<table border=\"1\" class=\"dataframe\">\n",
              "  <thead>\n",
              "    <tr style=\"text-align: right;\">\n",
              "      <th></th>\n",
              "      <th>ds</th>\n",
              "      <th>trend</th>\n",
              "      <th>yhat_lower</th>\n",
              "      <th>yhat_upper</th>\n",
              "      <th>trend_lower</th>\n",
              "      <th>trend_upper</th>\n",
              "      <th>additive_terms</th>\n",
              "      <th>additive_terms_lower</th>\n",
              "      <th>additive_terms_upper</th>\n",
              "      <th>daily</th>\n",
              "      <th>daily_lower</th>\n",
              "      <th>daily_upper</th>\n",
              "      <th>multiplicative_terms</th>\n",
              "      <th>multiplicative_terms_lower</th>\n",
              "      <th>multiplicative_terms_upper</th>\n",
              "      <th>yhat</th>\n",
              "    </tr>\n",
              "  </thead>\n",
              "  <tbody>\n",
              "    <tr>\n",
              "      <th>0</th>\n",
              "      <td>2018-06-17 23:59:59</td>\n",
              "      <td>23541.156486</td>\n",
              "      <td>-12123.271112</td>\n",
              "      <td>55904.790931</td>\n",
              "      <td>23541.156486</td>\n",
              "      <td>23541.156486</td>\n",
              "      <td>-1107.503995</td>\n",
              "      <td>-1107.503995</td>\n",
              "      <td>-1107.503995</td>\n",
              "      <td>-1107.503995</td>\n",
              "      <td>-1107.503995</td>\n",
              "      <td>-1107.503995</td>\n",
              "      <td>0.0</td>\n",
              "      <td>0.0</td>\n",
              "      <td>0.0</td>\n",
              "      <td>22433.652491</td>\n",
              "    </tr>\n",
              "    <tr>\n",
              "      <th>1</th>\n",
              "      <td>2018-06-17 23:59:59</td>\n",
              "      <td>23541.156486</td>\n",
              "      <td>-13011.160637</td>\n",
              "      <td>59179.004816</td>\n",
              "      <td>23541.156486</td>\n",
              "      <td>23541.156486</td>\n",
              "      <td>-1107.503995</td>\n",
              "      <td>-1107.503995</td>\n",
              "      <td>-1107.503995</td>\n",
              "      <td>-1107.503995</td>\n",
              "      <td>-1107.503995</td>\n",
              "      <td>-1107.503995</td>\n",
              "      <td>0.0</td>\n",
              "      <td>0.0</td>\n",
              "      <td>0.0</td>\n",
              "      <td>22433.652491</td>\n",
              "    </tr>\n",
              "    <tr>\n",
              "      <th>2</th>\n",
              "      <td>2018-06-17 23:59:59</td>\n",
              "      <td>23541.156486</td>\n",
              "      <td>-13642.472200</td>\n",
              "      <td>60539.777282</td>\n",
              "      <td>23541.156486</td>\n",
              "      <td>23541.156486</td>\n",
              "      <td>-1107.503995</td>\n",
              "      <td>-1107.503995</td>\n",
              "      <td>-1107.503995</td>\n",
              "      <td>-1107.503995</td>\n",
              "      <td>-1107.503995</td>\n",
              "      <td>-1107.503995</td>\n",
              "      <td>0.0</td>\n",
              "      <td>0.0</td>\n",
              "      <td>0.0</td>\n",
              "      <td>22433.652491</td>\n",
              "    </tr>\n",
              "    <tr>\n",
              "      <th>3</th>\n",
              "      <td>2018-06-18 00:00:59</td>\n",
              "      <td>23542.708790</td>\n",
              "      <td>-14833.892816</td>\n",
              "      <td>57834.224556</td>\n",
              "      <td>23542.708790</td>\n",
              "      <td>23542.708790</td>\n",
              "      <td>-1063.008281</td>\n",
              "      <td>-1063.008281</td>\n",
              "      <td>-1063.008281</td>\n",
              "      <td>-1063.008281</td>\n",
              "      <td>-1063.008281</td>\n",
              "      <td>-1063.008281</td>\n",
              "      <td>0.0</td>\n",
              "      <td>0.0</td>\n",
              "      <td>0.0</td>\n",
              "      <td>22479.700509</td>\n",
              "    </tr>\n",
              "    <tr>\n",
              "      <th>4</th>\n",
              "      <td>2018-06-18 00:00:59</td>\n",
              "      <td>23542.708790</td>\n",
              "      <td>-10373.433107</td>\n",
              "      <td>57276.211722</td>\n",
              "      <td>23542.708790</td>\n",
              "      <td>23542.708790</td>\n",
              "      <td>-1063.008281</td>\n",
              "      <td>-1063.008281</td>\n",
              "      <td>-1063.008281</td>\n",
              "      <td>-1063.008281</td>\n",
              "      <td>-1063.008281</td>\n",
              "      <td>-1063.008281</td>\n",
              "      <td>0.0</td>\n",
              "      <td>0.0</td>\n",
              "      <td>0.0</td>\n",
              "      <td>22479.700509</td>\n",
              "    </tr>\n",
              "  </tbody>\n",
              "</table>\n",
              "</div>"
            ],
            "text/plain": [
              "                   ds         trend    yhat_lower    yhat_upper   trend_lower  \\\n",
              "0 2018-06-17 23:59:59  23541.156486 -12123.271112  55904.790931  23541.156486   \n",
              "1 2018-06-17 23:59:59  23541.156486 -13011.160637  59179.004816  23541.156486   \n",
              "2 2018-06-17 23:59:59  23541.156486 -13642.472200  60539.777282  23541.156486   \n",
              "3 2018-06-18 00:00:59  23542.708790 -14833.892816  57834.224556  23542.708790   \n",
              "4 2018-06-18 00:00:59  23542.708790 -10373.433107  57276.211722  23542.708790   \n",
              "\n",
              "    trend_upper  additive_terms  additive_terms_lower  additive_terms_upper  \\\n",
              "0  23541.156486    -1107.503995          -1107.503995          -1107.503995   \n",
              "1  23541.156486    -1107.503995          -1107.503995          -1107.503995   \n",
              "2  23541.156486    -1107.503995          -1107.503995          -1107.503995   \n",
              "3  23542.708790    -1063.008281          -1063.008281          -1063.008281   \n",
              "4  23542.708790    -1063.008281          -1063.008281          -1063.008281   \n",
              "\n",
              "         daily  daily_lower  daily_upper  multiplicative_terms  \\\n",
              "0 -1107.503995 -1107.503995 -1107.503995                   0.0   \n",
              "1 -1107.503995 -1107.503995 -1107.503995                   0.0   \n",
              "2 -1107.503995 -1107.503995 -1107.503995                   0.0   \n",
              "3 -1063.008281 -1063.008281 -1063.008281                   0.0   \n",
              "4 -1063.008281 -1063.008281 -1063.008281                   0.0   \n",
              "\n",
              "   multiplicative_terms_lower  multiplicative_terms_upper          yhat  \n",
              "0                         0.0                         0.0  22433.652491  \n",
              "1                         0.0                         0.0  22433.652491  \n",
              "2                         0.0                         0.0  22433.652491  \n",
              "3                         0.0                         0.0  22479.700509  \n",
              "4                         0.0                         0.0  22479.700509  "
            ]
          },
          "metadata": {
            "tags": []
          },
          "execution_count": 85
        }
      ]
    },
    {
      "cell_type": "markdown",
      "metadata": {
        "id": "bwqJD6v8co-w"
      },
      "source": [
        "#### Useful features in forecasted frame"
      ]
    },
    {
      "cell_type": "code",
      "metadata": {
        "id": "EfetLhF0co-w"
      },
      "source": [
        "forecasted_features = ['ds','yhat','yhat_lower','yhat_upper']"
      ],
      "execution_count": null,
      "outputs": []
    },
    {
      "cell_type": "markdown",
      "metadata": {
        "id": "KR4GfJ-Pco-w"
      },
      "source": [
        "#### Plotting the future with history\n",
        "Confidence interval will be also printed for expectation. After completion of historical plot, future plot will be in right part of graph"
      ]
    },
    {
      "cell_type": "code",
      "metadata": {
        "id": "mD0ssNbgco-y",
        "outputId": "aeecc2d3-623d-4b94-8670-a1f267750ccf"
      },
      "source": [
        "m.plot(forecast,xlabel=\"Timestamp\",ylabel=\"Value\");"
      ],
      "execution_count": null,
      "outputs": [
        {
          "output_type": "display_data",
          "data": {
            "image/png": "[encoded data removed]",
            "text/plain": [
              "<Figure size 720x432 with 1 Axes>"
            ]
          },
          "metadata": {
            "tags": []
          }
        }
      ]
    },
    {
      "cell_type": "code",
      "metadata": {
        "id": "7ROyf2U_co-0"
      },
      "source": [
        ""
      ],
      "execution_count": null,
      "outputs": []
    }
  ]
}